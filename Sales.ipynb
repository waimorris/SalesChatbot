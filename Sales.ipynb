{
  "cells": [
    {
      "cell_type": "markdown",
      "id": "69032b4b-b031-4020-beb0-e8dfd22b660e",
      "metadata": {
        "id": "69032b4b-b031-4020-beb0-e8dfd22b660e"
      },
      "source": [
        "# LangChain 实战：家電销售聊天机器人"
      ]
    },
    {
      "cell_type": "markdown",
      "id": "0f3e2d5a-c2ff-4faf-b153-d1751c25fae0",
      "metadata": {
        "id": "0f3e2d5a-c2ff-4faf-b153-d1751c25fae0"
      },
      "source": [
        "## 使用 GPT-4 构造销售话术数据\n",
        "\n",
        "ChatGPT 分享链接：https://chat.openai.com/share/f3e4b9b0-95fb-4c6a-a3c7-f901dd194c91\n",
        "\n",
        "\n",
        "使用 ChatGPT 构造销售数据的 Prompt 示例：\n",
        "\n",
        "```\n",
        "你是中国顶级的家電产销售，现在培训职场新人，请给出100条实用的销售话术。\n",
        "\n",
        "每条销售话术以如下格式给出：\n",
        "[客户问题]\n",
        "[销售回答]\n",
        "\n",
        "```\n",
        "\n",
        "GPT-4 回复结果：\n",
        "\n",
        "```\n",
        "在家電销售行业中，精心准备的销售话术可以极大地提高成交率。以下是一些适用于中国家電产销售的实用话术：\n",
        "源可以选择。\n",
        "\n",
        "1. [客户问题]：这个电视有什么特点？[销售回答]：这款电视采用了最新的4K技术，能够提供更清晰的画面和更广泛的色彩范围。\n",
        "2. [客户问题]：这款冰箱的容量大吗？[销售回答]：是的，这款冰箱的容量非常大，适合大户型家庭使用。\n",
        "3. [客户问题]：这个空调的能耗高吗？[销售回答]：不，这款空调采用了节能技术，能够有效降低能耗。\n",
        "4. [客户问题]：这款洗衣机的噪音大吗？[销售回答]：不，这款洗衣机采用了静音设计，运行非常安静。\n",
        "5. [客户问题]：这个微波炉安全吗？[销售回答]：是的，这款微波炉采用了多重安全保护，确保使用安全。\n",
        "6. [客户问题]：这款电饭煲好用吗？[销售回答]：是的，这款电饭煲采用了智能控制，能够自动调节温度和时间。\n",
        "7. [客户问题]：这个咖啡机怎么用？[销售回答]：这款咖啡机操作非常简单，只需添加咖啡豆和水就可以制作出美味的咖啡。\n",
        "8. [客户问题]：这款电烤箱的温度控制准确吗？[销售回答]：是的，这款电烤箱采用了精确的温度控制系统，能够确保食物均匀烹饪。\n",
        "9. [客户问题]：这个吸尘器的吸力强吗？[销售回答]：是的，这款吸尘器采用了强大的吸力，能够有效清洁地板和地毯。\n",
        "10. [客户问题]：这款电风扇的噪音大吗？[销售回答]：不，这款电风扇采用了静音设计，运行非常安静。\n",
        "\n",
        "## 使用 Document Transformers 模块来处理原始数据\n",
        "\n",
        "\n",
        "将 ChatGPT 生成的结果保存到 [real_estate_sales_data.txt](real_estate_sales_data.txt) 文件中"
      ]
    },
    {
      "cell_type": "code",
      "execution_count": null,
      "id": "efcee928-b9f4-4e4a-b9fb-f6cbee21b642",
      "metadata": {
        "id": "efcee928-b9f4-4e4a-b9fb-f6cbee21b642"
      },
      "outputs": [],
      "source": [
        "with open(\"sales.txt\") as f:\n",
        "    real_estate_sales = f.read()"
      ]
    },
    {
      "cell_type": "markdown",
      "id": "a9119556-d2e3-4edf-be16-15837da156f1",
      "metadata": {
        "jupyter": {
          "source_hidden": true
        },
        "id": "a9119556-d2e3-4edf-be16-15837da156f1"
      },
      "source": [
        "### 使用 CharacterTextSplitter 来进行文本分割\n",
        "\n",
        "- 基于单字符来进行文本分割（separator）\n",
        "- 基于字符数来决定文本块长度（chunk_size）\n",
        "\n",
        "参考示例：\n",
        "\n",
        "```python\n",
        "from langchain.text_splitter import CharacterTextSplitter\n",
        "text_splitter = CharacterTextSplitter(        \n",
        "    separator = \"\\n\\n\",\n",
        "    chunk_size = 1000,\n",
        "    chunk_overlap  = 200,\n",
        "    length_function = len,\n",
        "    is_separator_regex = False,\n",
        ")\n",
        "```\n"
      ]
    },
    {
      "cell_type": "code",
      "execution_count": null,
      "id": "dbe535b8-2bd8-4c31-91d7-eba8aa61b3ef",
      "metadata": {
        "id": "dbe535b8-2bd8-4c31-91d7-eba8aa61b3ef"
      },
      "outputs": [],
      "source": [
        "from langchain.text_splitter import CharacterTextSplitter"
      ]
    },
    {
      "cell_type": "code",
      "execution_count": null,
      "id": "a4f30d9b-9fc6-4860-a497-0aa8220b9284",
      "metadata": {
        "id": "a4f30d9b-9fc6-4860-a497-0aa8220b9284"
      },
      "outputs": [],
      "source": [
        "text_splitter = CharacterTextSplitter(\n",
        "    separator = r'\\d+\\.',  # Matches any number followed by a dot\n",
        "    chunk_size = 100,\n",
        "    chunk_overlap  = 0,\n",
        "    length_function = len,\n",
        "    is_separator_regex = True,\n",
        ")"
      ]
    },
    {
      "cell_type": "code",
      "execution_count": null,
      "id": "530f3172-17a5-4924-ad17-284fbca422ae",
      "metadata": {
        "id": "530f3172-17a5-4924-ad17-284fbca422ae",
        "colab": {
          "base_uri": "https://localhost:8080/"
        },
        "outputId": "5a2a70fd-acc7-42c2-85b7-3bc981eff3b3"
      },
      "outputs": [
        {
          "output_type": "stream",
          "name": "stderr",
          "text": [
            "WARNING:langchain_text_splitters.base:Created a chunk of size 124, which is longer than the specified 100\n",
            "WARNING:langchain_text_splitters.base:Created a chunk of size 126, which is longer than the specified 100\n"
          ]
        }
      ],
      "source": [
        "docs = text_splitter.create_documents([real_estate_sales])"
      ]
    },
    {
      "cell_type": "code",
      "execution_count": null,
      "id": "3956ec36-706e-4f43-88fc-d704f2984290",
      "metadata": {
        "id": "3956ec36-706e-4f43-88fc-d704f2984290",
        "outputId": "6345c20e-8f33-4944-f5de-7cade01cfdc0",
        "colab": {
          "base_uri": "https://localhost:8080/"
        }
      },
      "outputs": [
        {
          "output_type": "execute_result",
          "data": {
            "text/plain": [
              "Document(page_content='\\\\d+\\\\. [客户问题]：这个电视有什么特点？\\n\\u2028[销售回答]：这款电视采用了最新的4K技术，能够提供更清晰的画面和更广泛的色彩范围。')"
            ]
          },
          "metadata": {},
          "execution_count": 83
        }
      ],
      "source": [
        "docs[0]"
      ]
    },
    {
      "cell_type": "code",
      "execution_count": null,
      "id": "73b2d47a-27ae-4cd4-a72a-3809b4c22bff",
      "metadata": {
        "id": "73b2d47a-27ae-4cd4-a72a-3809b4c22bff",
        "outputId": "ff421c00-b0d3-416f-d53d-7d522d641e3d",
        "colab": {
          "base_uri": "https://localhost:8080/"
        }
      },
      "outputs": [
        {
          "output_type": "execute_result",
          "data": {
            "text/plain": [
              "98"
            ]
          },
          "metadata": {},
          "execution_count": 84
        }
      ],
      "source": [
        "len(docs)"
      ]
    },
    {
      "cell_type": "markdown",
      "id": "e4617858-ad9c-42eb-a4c3-6bfb7108cdd2",
      "metadata": {
        "id": "e4617858-ad9c-42eb-a4c3-6bfb7108cdd2"
      },
      "source": [
        "### 使用 Faiss 作为向量数据库，持久化存储房产销售 问答对（QA-Pair）"
      ]
    },
    {
      "cell_type": "code",
      "execution_count": null,
      "id": "508c2ab2-e187-424f-a43c-ca3d3b1a0550",
      "metadata": {
        "id": "508c2ab2-e187-424f-a43c-ca3d3b1a0550",
        "colab": {
          "base_uri": "https://localhost:8080/"
        },
        "outputId": "6023d011-1efc-4982-b9ab-c0e8adf77aed"
      },
      "outputs": [
        {
          "output_type": "stream",
          "name": "stderr",
          "text": [
            "/usr/local/lib/python3.10/dist-packages/langchain_mistralai/embeddings.py:105: UserWarning: Could not download mistral tokenizer from Huggingface for calculating batch sizes. Set a Huggingface token via the HF_TOKEN environment variable to download the real tokenizer. Falling back to a dummy tokenizer that uses `len()`.\n",
            "  warnings.warn(\n"
          ]
        }
      ],
      "source": [
        "from langchain_mistralai import MistralAIEmbeddings\n",
        "from langchain.text_splitter import CharacterTextSplitter\n",
        "from langchain.vectorstores import FAISS\n",
        "\n",
        "db = FAISS.from_documents(docs,  MistralAIEmbeddings(api_key=\"rDjmdXGVUS37qMW2NOFP5vCpqlpve6Yt\"))"
      ]
    },
    {
      "cell_type": "code",
      "execution_count": null,
      "id": "250e0873-95e2-4372-98a5-68c0feb304bb",
      "metadata": {
        "id": "250e0873-95e2-4372-98a5-68c0feb304bb"
      },
      "outputs": [],
      "source": [
        "query = \"这个微波炉安全吗\""
      ]
    },
    {
      "cell_type": "code",
      "execution_count": null,
      "id": "0d18fcc6-c2be-434b-b8de-9648ac6f83f4",
      "metadata": {
        "id": "0d18fcc6-c2be-434b-b8de-9648ac6f83f4"
      },
      "outputs": [],
      "source": [
        "answer_list = db.similarity_search(query)"
      ]
    },
    {
      "cell_type": "code",
      "execution_count": null,
      "id": "e689667e-7a45-40d6-9eae-4e52cbc7daab",
      "metadata": {
        "id": "e689667e-7a45-40d6-9eae-4e52cbc7daab",
        "outputId": "0242bf9d-a986-4fcf-87e5-ee0fe958c122",
        "colab": {
          "base_uri": "https://localhost:8080/"
        }
      },
      "outputs": [
        {
          "output_type": "stream",
          "name": "stdout",
          "text": [
            "[客户问题]：这个微波炉安全吗？\n",
            " [销售回答]：是的，这款微波炉采用了多重安全保护，确保使用安全。\n",
            "\n",
            "[客户问题]：这个电水壶安全吗？\n",
            " [销售回答]：是的，这款电水壶采用了多重安全保护，确保使用安全。\n",
            "\n",
            "[客户问题]：这个电水壶的安全性好吗？\n",
            " [销售回答]：是的，这款电水壶采用了多重安全保护，确保使用安全。\n",
            "\n",
            "[客户问题]：这个电水壶的安全性好吗？\n",
            " [销售回答]：是的，这款电水壶采用了多重安全保护，确保使用安全。\n",
            "\n"
          ]
        }
      ],
      "source": [
        "for ans in answer_list:\n",
        "    print(ans.page_content + \"\\n\")"
      ]
    },
    {
      "cell_type": "code",
      "execution_count": null,
      "id": "a6cc47bf-1566-472f-84d2-a46bd634907c",
      "metadata": {
        "id": "a6cc47bf-1566-472f-84d2-a46bd634907c"
      },
      "outputs": [],
      "source": [
        "db.save_local(\"real_machine_sale\")"
      ]
    },
    {
      "cell_type": "markdown",
      "id": "0d5323e5-03fa-4c1c-b896-3ccc28af1857",
      "metadata": {
        "id": "0d5323e5-03fa-4c1c-b896-3ccc28af1857"
      },
      "source": [
        "### 使用 retriever 从向量数据库中获取结果\n",
        "\n",
        "#### 使用参数 `k` 指定返回结果数量\n"
      ]
    },
    {
      "cell_type": "code",
      "execution_count": null,
      "id": "17f051c9-8676-48d1-a9a4-e69b52630faf",
      "metadata": {
        "id": "17f051c9-8676-48d1-a9a4-e69b52630faf"
      },
      "outputs": [],
      "source": [
        "# 实例化一个 TopK Retriever\n",
        "topK_retriever = db.as_retriever(search_kwargs={\"k\": 3})"
      ]
    },
    {
      "cell_type": "code",
      "execution_count": null,
      "id": "e33024db-ca7b-4d68-9b0e-c31c15ded57d",
      "metadata": {
        "id": "e33024db-ca7b-4d68-9b0e-c31c15ded57d",
        "outputId": "4a530393-db6b-45fa-c405-ec64917e4c81",
        "colab": {
          "base_uri": "https://localhost:8080/"
        }
      },
      "outputs": [
        {
          "output_type": "execute_result",
          "data": {
            "text/plain": [
              "VectorStoreRetriever(tags=['FAISS', 'MistralAIEmbeddings'], vectorstore=<langchain_community.vectorstores.faiss.FAISS object at 0x7ee053f39ba0>, search_kwargs={'k': 3})"
            ]
          },
          "metadata": {},
          "execution_count": 121
        }
      ],
      "source": [
        "topK_retriever"
      ]
    },
    {
      "cell_type": "code",
      "execution_count": null,
      "id": "7efb1414-859f-4818-bacd-e1e2edf34b95",
      "metadata": {
        "id": "7efb1414-859f-4818-bacd-e1e2edf34b95",
        "outputId": "1cfd4872-9cf2-4985-cfb7-554b0470a3f7",
        "colab": {
          "base_uri": "https://localhost:8080/"
        }
      },
      "outputs": [
        {
          "output_type": "stream",
          "name": "stdout",
          "text": [
            "[客户问题]：这个微波炉安全吗？\n",
            " [销售回答]：是的，这款微波炉采用了多重安全保护，确保使用安全。\n",
            "\n",
            "[客户问题]：这个电水壶安全吗？\n",
            " [销售回答]：是的，这款电水壶采用了多重安全保护，确保使用安全。\n",
            "\n",
            "[客户问题]：这个电水壶的安全性好吗？\n",
            " [销售回答]：是的，这款电水壶采用了多重安全保护，确保使用安全。\n",
            "\n"
          ]
        }
      ],
      "source": [
        "docs = topK_retriever.get_relevant_documents(query)\n",
        "for doc in docs:\n",
        "    print(doc.page_content + \"\\n\")"
      ]
    },
    {
      "cell_type": "code",
      "execution_count": null,
      "id": "a3c4b62d-6f8f-461b-a4fb-41c8a404b831",
      "metadata": {
        "id": "a3c4b62d-6f8f-461b-a4fb-41c8a404b831"
      },
      "outputs": [],
      "source": [
        "docs = topK_retriever.get_relevant_documents(\"你们有没有风扇？\")"
      ]
    },
    {
      "cell_type": "code",
      "execution_count": null,
      "id": "04cca3d7-23d9-491f-8350-faeb19861dec",
      "metadata": {
        "id": "04cca3d7-23d9-491f-8350-faeb19861dec",
        "outputId": "6e56f42e-c968-4295-bde6-f6efcc90bce7",
        "colab": {
          "base_uri": "https://localhost:8080/"
        }
      },
      "outputs": [
        {
          "output_type": "stream",
          "name": "stdout",
          "text": [
            "[客户问题]：这款电风扇的能耗高吗？\n",
            " [销售回答]：不，这款电风扇采用了节能技术，能够有效降低能耗。\n",
            "\n",
            "[客户问题]：这款电风扇的能耗高吗？\n",
            " [销售回答]：不，这款电风扇采用了节能技术，能够有效降低能耗。\n",
            "\n",
            "[客户问题]：这款电风扇的能耗高吗？\n",
            " [销售回答]：不，这款电风扇采用了节能技术，能够有效降低能耗。\n",
            "\n"
          ]
        }
      ],
      "source": [
        "for doc in docs:\n",
        "    print(doc.page_content + \"\\n\")"
      ]
    },
    {
      "cell_type": "markdown",
      "id": "b335c9e5-bc01-4a47-916c-03bec0e7a839",
      "metadata": {
        "id": "b335c9e5-bc01-4a47-916c-03bec0e7a839"
      },
      "source": [
        "#### 使用 similarity_score_threshold 设置阈值，提升结果的相关性质量"
      ]
    },
    {
      "cell_type": "code",
      "execution_count": null,
      "id": "b1298956-6cf3-4a68-a3c2-a3149f64f156",
      "metadata": {
        "id": "b1298956-6cf3-4a68-a3c2-a3149f64f156"
      },
      "outputs": [],
      "source": [
        "# 实例化一个 similarity_score_threshold Retriever\n",
        "retriever = db.as_retriever(\n",
        "    search_type=\"similarity_score_threshold\",\n",
        "    search_kwargs={\"score_threshold\": 0.8}\n",
        ")"
      ]
    },
    {
      "cell_type": "code",
      "execution_count": null,
      "id": "d61167de-72ed-4618-a2e1-5df04784a3bc",
      "metadata": {
        "id": "d61167de-72ed-4618-a2e1-5df04784a3bc",
        "outputId": "977be225-dca6-4e79-c518-ad3694ec0947",
        "colab": {
          "base_uri": "https://localhost:8080/"
        }
      },
      "outputs": [
        {
          "output_type": "stream",
          "name": "stdout",
          "text": [
            "[客户问题]：这个微波炉安全吗？\n",
            " [销售回答]：是的，这款微波炉采用了多重安全保护，确保使用安全。\n",
            "\n"
          ]
        }
      ],
      "source": [
        "docs = retriever.get_relevant_documents(query)\n",
        "for doc in docs:\n",
        "    print(doc.page_content + \"\\n\")"
      ]
    },
    {
      "cell_type": "code",
      "execution_count": null,
      "id": "548d1b52-6fa2-46d6-9218-908db572f380",
      "metadata": {
        "id": "548d1b52-6fa2-46d6-9218-908db572f380"
      },
      "outputs": [],
      "source": []
    }
  ],
  "metadata": {
    "kernelspec": {
      "display_name": "Python 3 (ipykernel)",
      "language": "python",
      "name": "python3"
    },
    "language_info": {
      "codemirror_mode": {
        "name": "ipython",
        "version": 3
      },
      "file_extension": ".py",
      "mimetype": "text/x-python",
      "name": "python",
      "nbconvert_exporter": "python",
      "pygments_lexer": "ipython3",
      "version": "3.10.14"
    },
    "colab": {
      "provenance": []
    }
  },
  "nbformat": 4,
  "nbformat_minor": 5
}